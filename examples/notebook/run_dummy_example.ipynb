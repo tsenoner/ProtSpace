{
  "cells": [
    {
      "cell_type": "markdown",
      "metadata": {
        "id": "xubS8xctoShA"
      },
      "source": [
        "# ProtSpace Google Colab Workflow\n",
        "\n",
        "This workflow demonstrates how to use ProtSpace in Google Colab without local installation."
      ]
    },
    {
      "cell_type": "markdown",
      "metadata": {
        "id": "uxLorX4BocKt"
      },
      "source": [
        "\n",
        "## Step 1: Set up the environment\n",
        "\n",
        "First, we need to install the required dependencies and clone the ProtSpace repository."
      ]
    },
    {
      "cell_type": "code",
      "execution_count": null,
      "metadata": {
        "colab": {
          "base_uri": "https://localhost:8080/"
        },
        "collapsed": true,
        "id": "aY3UY9wfmyob",
        "outputId": "0b7e332b-c261-4790-bcbf-ac4075cf7a0f"
      },
      "outputs": [],
      "source": [
        "# !pip install h5py numpy pandas scikit-learn umap-learn plotly dash dash-bio\n",
        "!pip install umap-learn dash dash-bio\n",
        "!git clone https://github.com/tsenoner/ProtSpace.git"
      ]
    },
    {
      "cell_type": "markdown",
      "metadata": {
        "id": "Q2POFl9sohyJ"
      },
      "source": [
        "## Step 2: Prepare sample data\n",
        "\n",
        "For this example, we'll create some sample data. In a real scenario, you would use your own data files."
      ]
    },
    {
      "cell_type": "code",
      "execution_count": null,
      "metadata": {
        "id": "dlkr-yW5nOXj"
      },
      "outputs": [],
      "source": [
        "import h5py\n",
        "import numpy as np\n",
        "import pandas as pd\n",
        "\n",
        "# Create sample embedding data\n",
        "with h5py.File('sample_embeddings.h5', 'w') as f:\n",
        "    for i in range(100):\n",
        "        f[f'protein_{i}'] = np.random.rand(1024)\n",
        "\n",
        "# Create sample feature data\n",
        "feature_data = {\n",
        "    'identifier': [f'protein_{i}' for i in range(100)],\n",
        "    'feature1': np.random.choice(['A', 'B', 'C'], 100),\n",
        "    'feature2': np.random.choice(['Z', 'Y'], 100)\n",
        "}\n",
        "pd.DataFrame(feature_data).to_csv('sample_features.csv', index=False)"
      ]
    },
    {
      "cell_type": "markdown",
      "metadata": {
        "id": "bpiv8ZVSom33"
      },
      "source": [
        "## Step 3: Run the data preparation script\n",
        "\n",
        "Now, let's run the `prepare_json.py` script to process our sample data."
      ]
    },
    {
      "cell_type": "code",
      "execution_count": null,
      "metadata": {
        "colab": {
          "base_uri": "https://localhost:8080/"
        },
        "id": "ygqzuBaZnntv",
        "outputId": "b8187c72-ab84-498c-c319-ea8f7d94a99d"
      },
      "outputs": [],
      "source": [
        "!python ProtSpace/script/prepare_json.py -H sample_embeddings.h5 -c sample_features.csv -o sample_output.json --methods pca2 pca3 -v"
      ]
    },
    {
      "cell_type": "markdown",
      "metadata": {
        "id": "cPDVOZDqpWD5"
      },
      "source": [
        "## Step 4: Run the ProtSpace app\n",
        "\n",
        "Finally, we'll run the ProtSpace app."
      ]
    },
    {
      "cell_type": "code",
      "execution_count": null,
      "metadata": {
        "colab": {
          "base_uri": "https://localhost:8080/",
          "height": 671
        },
        "id": "6VWhHoH2x8MT",
        "outputId": "fb3fdc5a-7c02-4be3-dfad-f09e1ea22298"
      },
      "outputs": [],
      "source": [
        "from ProtSpace.protspace.app import ProtSpace\n",
        "\n",
        "json_file = 'sample_output.json'\n",
        "protspace = ProtSpace(json_file)\n",
        "protspace.run_server(port=8050)"
      ]
    }
  ],
  "metadata": {
    "colab": {
      "provenance": []
    },
    "kernelspec": {
      "display_name": "Python 3",
      "name": "python3"
    },
    "language_info": {
      "codemirror_mode": {
        "name": "ipython",
        "version": 3
      },
      "file_extension": ".py",
      "mimetype": "text/x-python",
      "name": "python",
      "nbconvert_exporter": "python",
      "pygments_lexer": "ipython3",
      "version": "3.12.4"
    }
  },
  "nbformat": 4,
  "nbformat_minor": 0
}
