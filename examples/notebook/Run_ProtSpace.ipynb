{
 "cells": [
  {
   "cell_type": "code",
   "execution_count": null,
   "metadata": {
    "cellView": "form",
    "id": "oYytCgvK3rsL"
   },
   "outputs": [],
   "source": [
    "#@title # ProtSpace: Interactive Protein Embedding Visualization\n",
    "#@markdown ### About ProtSpace ([github](https://github.com/tsenoner/ProtSpace))\n",
    "#@markdown ProtSpace is a tool for interactive visualization of protein embeddings that:\n",
    "#@markdown - Converts high-dimensional protein embeddings into 2D/3D visualizations\n",
    "#@markdown - Supports multiple dimension reduction methods (PCA, UMAP, t-SNE, PaCMAP)\n",
    "#@markdown - Allows annotation-based coloring and shaping of data points\n",
    "#@markdown - Integrates protein structure visualization alongside embedding space\n",
    "#@markdown - Enables publication-quality exports and sharing of visualization sessions\n",
    "\n",
    "#@markdown ### Basic Workflow:\n",
    "#@markdown 1. Upload protein embeddings (H5 file)\n",
    "#@markdown 2. Upload feature annotations (CSV file)\n",
    "#@markdown 3. Choose visualization methods\n",
    "#@markdown 4. Explore your protein space interactively"
   ]
  },
  {
   "cell_type": "code",
   "execution_count": null,
   "metadata": {
    "cellView": "form",
    "id": "SMOaZCtCcFpL"
   },
   "outputs": [],
   "source": [
    "#@title Install Dependencies and Import Libraries (~2min)\n",
    "%%capture\n",
    "!pip install protspace\n",
    "\n",
    "import sys\n",
    "import os\n",
    "from google.colab import files\n",
    "from pathlib import Path\n",
    "\n",
    "from protspace.app import ProtSpace"
   ]
  },
  {
   "cell_type": "code",
   "execution_count": null,
   "metadata": {
    "cellView": "form",
    "colab": {
     "base_uri": "https://localhost:8080/",
     "height": 74
    },
    "id": "jopS7edkk6lQ",
    "outputId": "2e2ef17d-2b6c-4f36-c0c2-a789fdfa6ac4"
   },
   "outputs": [],
   "source": [
    "#@title 📤 Upload Data Files\n",
    "#@markdown Upload two files:\n",
    "#@markdown - Embedding file (`.h5`, `.hdf5`, or `.hdf`)\n",
    "#@markdown - Feature file (`.csv`)\n",
    "\n",
    "uploaded = files.upload()"
   ]
  },
  {
   "cell_type": "code",
   "execution_count": null,
   "metadata": {
    "cellView": "form",
    "colab": {
     "base_uri": "https://localhost:8080/"
    },
    "id": "goN5Ux8iltTi",
    "outputId": "8f6c85e4-1089-4db2-8ec4-00b45fedd232"
   },
   "outputs": [],
   "source": [
    "#@title 📂 File Paths\n",
    "#@markdown ### Enter paths to your files\n",
    "\n",
    "#@markdown #### Path to embedding file (.h5/.hdf5/.hdf):\n",
    "embedding_file = \"localization_embeddings.h5\" #@param {type:\"string\"}\n",
    "\n",
    "#@markdown #### Path to feature file (.csv):\n",
    "feature_file = \"localization.csv\" #@param {type:\"string\"}\n",
    "\n",
    "# Validate files\n",
    "valid_files = True\n",
    "if not embedding_file:\n",
    "    print(\"⚠️ Please enter path to embedding file\")\n",
    "    valid_files = False\n",
    "elif not os.path.exists(embedding_file):\n",
    "    print(f\"⚠️ Embedding file not found: {embedding_file}\")\n",
    "    valid_files = False\n",
    "elif not any(embedding_file.endswith(ext) for ext in ['.h5', '.hdf5', '.hdf']):\n",
    "    print(f\"⚠️ Embedding file must be .h5, .hdf5, or .hdf format\")\n",
    "    valid_files = False\n",
    "\n",
    "if not feature_file:\n",
    "    print(\"⚠️ Please enter path to feature file\")\n",
    "    valid_files = False\n",
    "elif not os.path.exists(feature_file):\n",
    "    print(f\"⚠️ Feature file not found: {feature_file}\")\n",
    "    valid_files = False\n",
    "elif not feature_file.endswith('.csv'):\n",
    "    print(f\"⚠️ Feature file must be .csv format\")\n",
    "    valid_files = False\n",
    "\n",
    "if valid_files:\n",
    "    print(\"✅ Files validated successfully\")\n",
    "    output_file = str(Path(embedding_file).with_suffix('.json'))"
   ]
  },
  {
   "cell_type": "code",
   "execution_count": null,
   "metadata": {
    "cellView": "form",
    "id": "3c759oDQv-9S"
   },
   "outputs": [],
   "source": [
    "#@title 🔧 Configure Visualization\n",
    "#@markdown ### Choose dimension reduction methods:\n",
    "#@markdown - **PCA**: Fast, linear reduction\n",
    "#@markdown - **UMAP**: Preserves global and local structure\n",
    "#@markdown - **t-SNE**: Focuses on local structure\n",
    "#@markdown - **PaCMAP**: Balances global and local structure\n",
    "\n",
    "use_pca = True #@param {type:\"boolean\"}\n",
    "use_umap = True #@param {type:\"boolean\"}\n",
    "use_tsne = False #@param {type:\"boolean\"}\n",
    "use_pacmap = False #@param {type:\"boolean\"}\n",
    "\n",
    "#@markdown ### Choose dimensions:\n",
    "dimensions = \"2D only\" #@param [\"2D only\", \"3D only\", \"2D and 3D\"]\n",
    "\n",
    "# Build methods string\n",
    "methods = []\n",
    "\n",
    "def add_method(use_method, method_name):\n",
    "    if use_method:\n",
    "        if dimensions == \"2D only\":\n",
    "            methods.append(f\"{method_name}2\")\n",
    "        elif dimensions == \"3D only\":\n",
    "            methods.append(f\"{method_name}3\")\n",
    "        else:\n",
    "            methods.extend([f\"{method_name}2\", f\"{method_name}3\"])\n",
    "\n",
    "add_method(use_pca, \"pca\")\n",
    "add_method(use_umap, \"umap\")\n",
    "add_method(use_tsne, \"tsne\")\n",
    "add_method(use_pacmap, \"pacmap\")\n",
    "\n",
    "methods_str = \" \".join(methods)\n",
    "params_str = \"\""
   ]
  },
  {
   "cell_type": "code",
   "execution_count": null,
   "metadata": {
    "cellView": "form",
    "id": "qzUhF84ozwoG"
   },
   "outputs": [],
   "source": [
    "#@title ## Advanced Parameters (optional)\n",
    "\n",
    "#@markdown #### UMAP Parameters:\n",
    "if use_umap:\n",
    "    #@markdown - Number of neighbors influences locality preservation\n",
    "    umap_n_neighbors = 50 #@param {type:\"slider\", min:2, max:200, step:1}\n",
    "    #@markdown - Minimum distance between points\n",
    "    umap_min_dist = 0.5 #@param {type:\"slider\", min:0.0, max:1.0, step:0.01}\n",
    "    #@markdown - Distance metric\n",
    "    umap_metric = \"euclidean\" #@param [\"euclidean\", \"cosine\"]\n",
    "\n",
    "# @markdown ---\n",
    "#@markdown #### t-SNE Parameters:\n",
    "if use_tsne:\n",
    "    #@markdown - Perplexity balances local and global structure\n",
    "    tsne_perplexity = 30 #@param {type:\"slider\", min:5, max:100, step:5}\n",
    "    #@markdown - Learning rate influences optimization\n",
    "    tsne_learning_rate = 200 #@param {type:\"number\"}\n",
    "\n",
    "# @markdown ---\n",
    "#@markdown #### PaCMAP Parameters:\n",
    "if use_pacmap:\n",
    "    #@markdown - Number of neighbors\n",
    "    pacmap_n_neighbors = 25 #@param {type:\"slider\", min:2, max:100, step:1}\n",
    "    #@markdown - MN ratio (Mid-Near pairs ratio): Controls local structure preservation\n",
    "    #@markdown   - Higher values (→1.0): Better preserves local structure\n",
    "    #@markdown   - Lower values (→0.1): Allows more global structure influence\n",
    "    pacmap_mn_ratio = 0.5 #@param {type:\"slider\", min:0.1, max:1.0, step:0.1}\n",
    "    #@markdown - FP ratio (Further Pairs ratio): Controls global structure preservation\n",
    "    #@markdown   - Higher values (→5.0): Better preserves global structure, more separation between clusters\n",
    "    #@markdown   - Lower values (→0.1): Focuses more on local relationships\n",
    "    pacmap_fp_ratio = 2.0 #@param {type:\"slider\", min:0.1, max:5.0, step:0.1}\n",
    "    #@markdown\n",
    "    #@markdown Recommended combinations:\n",
    "    #@markdown - Balanced view: MN=0.5, FP=2.0\n",
    "    #@markdown - Local focus: MN=0.8, FP=1.0\n",
    "    #@markdown - Global focus: MN=0.3, FP=3.0\n",
    "\n",
    "# Build parameter string\n",
    "params = []\n",
    "\n",
    "if use_umap:\n",
    "    params.extend([\n",
    "        f\"--n_neighbors {umap_n_neighbors}\",\n",
    "        f\"--min_dist {umap_min_dist}\",\n",
    "        f\"--metric {umap_metric}\"\n",
    "    ])\n",
    "\n",
    "if use_tsne:\n",
    "    params.extend([\n",
    "        f\"--perplexity {tsne_perplexity}\",\n",
    "        f\"--learning_rate {tsne_learning_rate}\"\n",
    "    ])\n",
    "\n",
    "if use_pacmap:\n",
    "    params.extend([\n",
    "        f\"--n_neighbors {pacmap_n_neighbors}\",\n",
    "        f\"--mn_ratio {pacmap_mn_ratio}\",\n",
    "        f\"--fp_ratio {pacmap_fp_ratio}\"\n",
    "    ])\n",
    "\n",
    "params_str = \" \".join(params)"
   ]
  },
  {
   "cell_type": "code",
   "execution_count": null,
   "metadata": {
    "cellView": "form",
    "colab": {
     "base_uri": "https://localhost:8080/"
    },
    "id": "EXVMLJvHp0zi",
    "outputId": "65f7370a-5b57-431d-d69d-c3e9f3dbdb73"
   },
   "outputs": [],
   "source": [
    "#@title 📊 Generate JSON File\n",
    "#@markdown Generate the visualization data file\n",
    "\n",
    "if not valid_files:\n",
    "    print(\"⚠️ Please fix file path issues before continuing\")\n",
    "else:\n",
    "    print(f\"Generating visualization data...\")\n",
    "    !protspace-json -i {embedding_file} -m {feature_file} -o {output_file} --methods {methods_str} {params_str}\n",
    "    print(f\"✅ JSON file saved as: {output_file}\")"
   ]
  },
  {
   "cell_type": "code",
   "execution_count": null,
   "metadata": {
    "cellView": "form",
    "colab": {
     "base_uri": "https://localhost:8080/",
     "height": 671
    },
    "id": "nfKxgqD4p9h8",
    "outputId": "09087b4b-14fe-4878-890b-993c4f451160"
   },
   "outputs": [],
   "source": [
    "#@title 🚀 Launch ProtSpace\n",
    "#@markdown ### Launch the visualization interface\n",
    "#@markdown Optionally specify a different JSON file, or leave empty to use the one generated above\n",
    "\n",
    "#@markdown #### Path to JSON file (optional):\n",
    "json_file = \"\" #@param {type:\"string\"}\n",
    "\n",
    "# Use generated JSON file if no other file specified\n",
    "if not json_file:\n",
    "    json_file = output_file\n",
    "\n",
    "# Validate JSON file\n",
    "if not os.path.exists(json_file):\n",
    "    print(f\"⚠️ JSON file not found: {json_file}\")\n",
    "else:\n",
    "\n",
    "    # Store the original stdout/stderr before suppressing\n",
    "    original_stdout = sys.stdout\n",
    "    original_stderr = sys.stderr\n",
    "\n",
    "    def suppress_output():\n",
    "        sys.stdout = open(os.devnull, 'w')\n",
    "        sys.stderr = open(os.devnull, 'w')\n",
    "\n",
    "    def restore_output():\n",
    "        sys.stdout = original_stdout\n",
    "        sys.stderr = original_stderr\n",
    "\n",
    "    suppress_output()\n",
    "    app = ProtSpace(default_json_file=json_file)\n",
    "    app.run_server()\n",
    "    restore_output()"
   ]
  },
  {
   "cell_type": "markdown",
   "metadata": {
    "id": "IYJjLsVCqL1t"
   },
   "source": [
    "## Exercise\n",
    "1. Upload the localization embeddings from before\n",
    "    - The feature CSV file can be found here: https://nextcloud.in.tum.de/index.php/s/Dnf2L3e3d58gaDa\n",
    "1. Download pre-computed ProtSpace configuration files (see next code block)\n",
    "1. Upload and look at different configuration files\n",
    "1. interact with plot\n",
    "  - click in the legend (single- and double-click)\n",
    "  - zoom in by selecting an area\n",
    "1. Explore the 3FTx dataset (three-finger toxin dataset) -> enter **protspace/3FTx.json** in the json_path field\n",
    "  - look at the `membrane_prediction` feature\n",
    "  - compare to `major_group` feature\n",
    "  - look at the more fine-grained `group`\n",
    "  - and finally the `number_cystein`\n",
    "1. The GFP\n",
    "1. Explore other files or generate your own file and explore it"
   ]
  },
  {
   "cell_type": "code",
   "execution_count": null,
   "metadata": {
    "colab": {
     "base_uri": "https://localhost:8080/"
    },
    "id": "GOis2NwR1spM",
    "outputId": "4fe6807a-6975-460b-9a10-ddefd78741f2"
   },
   "outputs": [],
   "source": [
    "# @title Get ProtSpace configuration files\n",
    "!wget -O protspace.zip -r --no-parent -nH --cut-dirs=3 --reject \"index.html*\" -e robots=off https://nextcloud.in.tum.de/index.php/s/jb9fN3wawgTRswS/download\n",
    "!unzip -j protspace.zip -d protspace"
   ]
  },
  {
   "cell_type": "code",
   "execution_count": null,
   "metadata": {
    "id": "l6Bwlc_n8VEW"
   },
   "outputs": [],
   "source": []
  }
 ],
 "metadata": {
  "colab": {
   "provenance": []
  },
  "kernelspec": {
   "display_name": "Python 3",
   "name": "python3"
  },
  "language_info": {
   "name": "python"
  }
 },
 "nbformat": 4,
 "nbformat_minor": 0
}
