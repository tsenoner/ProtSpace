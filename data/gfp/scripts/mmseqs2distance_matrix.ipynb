{
 "cells": [
  {
   "cell_type": "code",
   "execution_count": 28,
   "metadata": {},
   "outputs": [],
   "source": [
    "import pandas as pd\n",
    "import numpy as np\n",
    "from scipy.sparse import coo_matrix\n",
    "\n",
    "mmseqs_result = \"../mmseqs_mutated_sequences/results.csv\"\n",
    "mmseqs_result = \"../mmseqs_subset_1000/results.csv\"\n",
    "headers = [\"query\",\"target\",\"fident\",\"alnlen\",\"mismatch\",\"gapopen\",\"qstart\",\"qend\",\"tstart\",\"tend\",\"evalue\",\"bits\"]"
   ]
  },
  {
   "cell_type": "code",
   "execution_count": 8,
   "metadata": {},
   "outputs": [
    {
     "data": {
      "text/html": [
       "<div>\n",
       "<style scoped>\n",
       "    .dataframe tbody tr th:only-of-type {\n",
       "        vertical-align: middle;\n",
       "    }\n",
       "\n",
       "    .dataframe tbody tr th {\n",
       "        vertical-align: top;\n",
       "    }\n",
       "\n",
       "    .dataframe thead th {\n",
       "        text-align: right;\n",
       "    }\n",
       "</style>\n",
       "<table border=\"1\" class=\"dataframe\">\n",
       "  <thead>\n",
       "    <tr style=\"text-align: right;\">\n",
       "      <th></th>\n",
       "      <th>query</th>\n",
       "      <th>target</th>\n",
       "      <th>fident</th>\n",
       "      <th>evalue</th>\n",
       "      <th>bits</th>\n",
       "    </tr>\n",
       "  </thead>\n",
       "  <tbody>\n",
       "    <tr>\n",
       "      <th>0</th>\n",
       "      <td>P42212</td>\n",
       "      <td>SI12V</td>\n",
       "      <td>0.997</td>\n",
       "      <td>9.731000e-165</td>\n",
       "      <td>504</td>\n",
       "    </tr>\n",
       "    <tr>\n",
       "      <th>1</th>\n",
       "      <td>P42212</td>\n",
       "      <td>P42212</td>\n",
       "      <td>1.000</td>\n",
       "      <td>9.731000e-165</td>\n",
       "      <td>504</td>\n",
       "    </tr>\n",
       "  </tbody>\n",
       "</table>\n",
       "</div>"
      ],
      "text/plain": [
       "    query  target  fident         evalue  bits\n",
       "0  P42212   SI12V   0.997  9.731000e-165   504\n",
       "1  P42212  P42212   1.000  9.731000e-165   504"
      ]
     },
     "execution_count": 8,
     "metadata": {},
     "output_type": "execute_result"
    }
   ],
   "source": [
    "df = pd.read_csv(mmseqs_result, sep=\"\\t\")\n",
    "df.head(2)"
   ]
  },
  {
   "cell_type": "code",
   "execution_count": 29,
   "metadata": {},
   "outputs": [],
   "source": [
    "# Get unique sequence IDs and create mapping to integers\n",
    "all_seqs = sorted(list(set(df['query'].unique()) | set(df['target'].unique())))\n",
    "seq_to_idx = {seq: idx for idx, seq in enumerate(all_seqs)}\n",
    "\n",
    "# Convert sequences to integer indices\n",
    "row_idx = np.array([seq_to_idx[seq] for seq in df['query']])\n",
    "col_idx = np.array([seq_to_idx[seq] for seq in df['target']])\n",
    "\n",
    "# Create sparse matrix in COO format\n",
    "n = len(all_seqs)\n",
    "sparse_matrix = coo_matrix(\n",
    "    (df[\"fident\"], (row_idx, col_idx)),\n",
    "    shape=(n, n)\n",
    ")\n",
    "\n",
    "# Convert to dense matrix\n",
    "dense_matrix = sparse_matrix.toarray()\n",
    "\n",
    "# Convert to DataFrame with proper labels\n",
    "matrix = pd.DataFrame(\n",
    "    dense_matrix,\n",
    "    index=all_seqs,\n",
    "    columns=all_seqs\n",
    ")"
   ]
  },
  {
   "cell_type": "code",
   "execution_count": 32,
   "metadata": {},
   "outputs": [
    {
     "data": {
      "text/plain": [
       "0"
      ]
     },
     "execution_count": 32,
     "metadata": {},
     "output_type": "execute_result"
    }
   ],
   "source": [
    "count_zeros = np.count_nonzero(matrix == 0)\n",
    "count_zeros"
   ]
  },
  {
   "cell_type": "code",
   "execution_count": 36,
   "metadata": {},
   "outputs": [],
   "source": [
    "output_file = \"../processed_data/similarity_matrix.csv\"\n",
    "matrix.to_csv(output_file, sep=',')"
   ]
  }
 ],
 "metadata": {
  "kernelspec": {
   "display_name": ".venv",
   "language": "python",
   "name": "python3"
  },
  "language_info": {
   "codemirror_mode": {
    "name": "ipython",
    "version": 3
   },
   "file_extension": ".py",
   "mimetype": "text/x-python",
   "name": "python",
   "nbconvert_exporter": "python",
   "pygments_lexer": "ipython3",
   "version": "3.12.7"
  }
 },
 "nbformat": 4,
 "nbformat_minor": 2
}
